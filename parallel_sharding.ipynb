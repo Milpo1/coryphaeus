{
 "cells": [
  {
   "cell_type": "code",
   "execution_count": 1,
   "metadata": {},
   "outputs": [],
   "source": [
    "import multiprocessing as mp\n",
    "\n",
    "texts = [\n",
    "'Ethical/Sustainable Shopping: Addressing customer interest in responsible fashion.',\n",
    "\n",
    "'Urgent Order Cancellation: Handling a time-sensitive cancellation request.',\n",
    "\n",
    "'Student Discounts: Providing information about special offers.',\n",
    "\n",
    "'Product Smell Issue: Addressing a concern about a newly received item\\'s odor.',\n",
    "\n",
    "'Loyalty Program Inquiry: Explaining the customer rewards program.'\n",
    "]\n",
    "\n",
    "def test_func(text):\n",
    "    return text[::-1]"
   ]
  },
  {
   "cell_type": "code",
   "execution_count": 2,
   "metadata": {},
   "outputs": [
    {
     "name": "stdout",
     "output_type": "stream",
     "text": [
      ".noihsaf elbisnopser ni tseretni remotsuc gnisserddA :gnippohS elbaniatsuS/lacihtE\n",
      ".tseuqer noitallecnac evitisnes-emit a gnildnaH :noitallecnaC redrO tnegrU\n",
      ".sreffo laiceps tuoba noitamrofni gnidivorP :stnuocsiD tnedutS\n",
      ".rodo s'meti deviecer ylwen a tuoba nrecnoc a gnisserddA :eussI llemS tcudorP\n",
      ".margorp sdrawer remotsuc eht gninialpxE :yriuqnI margorP ytlayoL\n"
     ]
    }
   ],
   "source": [
    "for text in map(test_func, texts):\n",
    "    print(text)"
   ]
  },
  {
   "cell_type": "code",
   "execution_count": null,
   "metadata": {},
   "outputs": [],
   "source": [
    "with mp.Pool(2) as pool:\n",
    "    for text in pool.imap(test_func, texts, chunksize=2):\n",
    "        print(text)"
   ]
  }
 ],
 "metadata": {
  "kernelspec": {
   "display_name": ".venv",
   "language": "python",
   "name": "python3"
  },
  "language_info": {
   "codemirror_mode": {
    "name": "ipython",
    "version": 3
   },
   "file_extension": ".py",
   "mimetype": "text/x-python",
   "name": "python",
   "nbconvert_exporter": "python",
   "pygments_lexer": "ipython3",
   "version": "3.12.2"
  }
 },
 "nbformat": 4,
 "nbformat_minor": 2
}
